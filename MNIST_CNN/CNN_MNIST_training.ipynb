{
 "cells": [
  {
   "cell_type": "code",
   "execution_count": 1,
   "metadata": {},
   "outputs": [
    {
     "name": "stderr",
     "output_type": "stream",
     "text": [
      "/Users/bpu/anaconda3/lib/python3.6/site-packages/h5py/__init__.py:36: FutureWarning: Conversion of the second argument of issubdtype from `float` to `np.floating` is deprecated. In future, it will be treated as `np.float64 == np.dtype(float).type`.\n",
      "  from ._conv import register_converters as _register_converters\n"
     ]
    }
   ],
   "source": [
    "\n",
    "import tensorflow as tf\n",
    "# cmd 창에서 pip3 install tensorflow\n",
    "import numpy as np"
   ]
  },
  {
   "cell_type": "code",
   "execution_count": 2,
   "metadata": {},
   "outputs": [
    {
     "name": "stdout",
     "output_type": "stream",
     "text": [
      "WARNING:tensorflow:From <ipython-input-2-f4b6489b564a>:3: read_data_sets (from tensorflow.contrib.learn.python.learn.datasets.mnist) is deprecated and will be removed in a future version.\n",
      "Instructions for updating:\n",
      "Please use alternatives such as official/mnist/dataset.py from tensorflow/models.\n",
      "WARNING:tensorflow:From /Users/bpu/anaconda3/lib/python3.6/site-packages/tensorflow/contrib/learn/python/learn/datasets/mnist.py:260: maybe_download (from tensorflow.contrib.learn.python.learn.datasets.base) is deprecated and will be removed in a future version.\n",
      "Instructions for updating:\n",
      "Please write your own downloading logic.\n",
      "WARNING:tensorflow:From /Users/bpu/anaconda3/lib/python3.6/site-packages/tensorflow/contrib/learn/python/learn/datasets/mnist.py:262: extract_images (from tensorflow.contrib.learn.python.learn.datasets.mnist) is deprecated and will be removed in a future version.\n",
      "Instructions for updating:\n",
      "Please use tf.data to implement this functionality.\n",
      "Extracting MNIST_data/train-images-idx3-ubyte.gz\n",
      "WARNING:tensorflow:From /Users/bpu/anaconda3/lib/python3.6/site-packages/tensorflow/contrib/learn/python/learn/datasets/mnist.py:267: extract_labels (from tensorflow.contrib.learn.python.learn.datasets.mnist) is deprecated and will be removed in a future version.\n",
      "Instructions for updating:\n",
      "Please use tf.data to implement this functionality.\n",
      "Extracting MNIST_data/train-labels-idx1-ubyte.gz\n",
      "WARNING:tensorflow:From /Users/bpu/anaconda3/lib/python3.6/site-packages/tensorflow/contrib/learn/python/learn/datasets/mnist.py:110: dense_to_one_hot (from tensorflow.contrib.learn.python.learn.datasets.mnist) is deprecated and will be removed in a future version.\n",
      "Instructions for updating:\n",
      "Please use tf.one_hot on tensors.\n",
      "Extracting MNIST_data/t10k-images-idx3-ubyte.gz\n",
      "Extracting MNIST_data/t10k-labels-idx1-ubyte.gz\n",
      "WARNING:tensorflow:From /Users/bpu/anaconda3/lib/python3.6/site-packages/tensorflow/contrib/learn/python/learn/datasets/mnist.py:290: DataSet.__init__ (from tensorflow.contrib.learn.python.learn.datasets.mnist) is deprecated and will be removed in a future version.\n",
      "Instructions for updating:\n",
      "Please use alternatives such as official/mnist/dataset.py from tensorflow/models.\n"
     ]
    }
   ],
   "source": [
    "# loading MNIST dataset \n",
    "from tensorflow.examples.tutorials.mnist import input_data\n",
    "mnist =input_data.read_data_sets (\"MNIST_data/\", one_hot= True)"
   ]
  },
  {
   "cell_type": "code",
   "execution_count": 3,
   "metadata": {},
   "outputs": [
    {
     "data": {
      "text/plain": [
       "(55000, 784)"
      ]
     },
     "execution_count": 3,
     "metadata": {},
     "output_type": "execute_result"
    }
   ],
   "source": [
    "mnist.train.images\n",
    "mnist.train.images.shape"
   ]
  },
  {
   "cell_type": "code",
   "execution_count": 4,
   "metadata": {},
   "outputs": [
    {
     "data": {
      "text/plain": [
       "55000"
      ]
     },
     "execution_count": 4,
     "metadata": {},
     "output_type": "execute_result"
    }
   ],
   "source": [
    "mnist.test.labels[1]\n",
    "mnist.train.num_examples"
   ]
  },
  {
   "cell_type": "code",
   "execution_count": 5,
   "metadata": {},
   "outputs": [],
   "source": [
    "# define.py\n",
    "classes = 10\n",
    "learning_rate = 0.01\n",
    "training_epochs = 50 \n",
    "batch_size = 100"
   ]
  },
  {
   "cell_type": "code",
   "execution_count": 6,
   "metadata": {},
   "outputs": [
    {
     "name": "stdout",
     "output_type": "stream",
     "text": [
      "Tensor(\"Placeholder:0\", shape=(?, 784), dtype=float32)\n",
      "Tensor(\"Placeholder_1:0\", shape=(?, 10), dtype=float32)\n"
     ]
    }
   ],
   "source": [
    "# input placeholders \n",
    "# MNIST data image of shape 28*28 = 784\n",
    "X = tf.placeholder(tf.float32, [None, 784])\n",
    "X_img = tf.reshape(X, [-1,28,28,1]) # img 28*28*1 grayscale\n",
    "\n",
    "\n",
    "# 0~9 digits recognition = 10 classes\n",
    "Y = tf.placeholder(tf.float32, [None, classes])\n",
    "print(X)\n",
    "print(Y)"
   ]
  },
  {
   "cell_type": "code",
   "execution_count": 7,
   "metadata": {},
   "outputs": [
    {
     "name": "stdout",
     "output_type": "stream",
     "text": [
      "WARNING:tensorflow:From /Users/bpu/anaconda3/lib/python3.6/site-packages/tensorflow/python/framework/op_def_library.py:263: colocate_with (from tensorflow.python.framework.ops) is deprecated and will be removed in a future version.\n",
      "Instructions for updating:\n",
      "Colocations handled automatically by placer.\n",
      "<tf.Variable 'Variable:0' shape=(3, 3, 1, 32) dtype=float32_ref>\n"
     ]
    }
   ],
   "source": [
    "#Input Image shape = (?,28,28,1)\n",
    "W1 = tf.Variable(tf.random_normal([3,3,1,32], stddev = 0.01)) # 3*3 필터, color = 1, 필터개수= 32\n",
    "\n",
    "print(W1)"
   ]
  },
  {
   "cell_type": "code",
   "execution_count": 8,
   "metadata": {},
   "outputs": [
    {
     "name": "stdout",
     "output_type": "stream",
     "text": [
      "Tensor(\"MaxPool:0\", shape=(?, 14, 14, 32), dtype=float32)\n"
     ]
    }
   ],
   "source": [
    "#Convolution Operation -> (?, 28,28,32)\n",
    "L1 = tf.nn.conv2d(X_img, W1, strides =[1,1,1,1], padding='SAME') # strides = 개수, 1*1 stride, 1 channel, 패딩결과사이즈 이전과 같음\n",
    "\n",
    "#Polling -> (?,14,14,32)\n",
    "L1 = tf.nn.relu(L1)\n",
    "L1 = tf.nn.max_pool(L1, ksize=[1,2,2,1], strides =[1,2,2,1], padding='SAME') # padding 결과 사이즈 같음 \n",
    "print(L1)"
   ]
  },
  {
   "cell_type": "code",
   "execution_count": 9,
   "metadata": {},
   "outputs": [],
   "source": [
    "# L2 image input shape =(?,14,14,32)\n",
    "\n",
    "W2 = tf.Variable(tf.random_normal([3,3,32,64], stddev=0.01)) #3*3 필터, 32개 input개수, 64개 필터 \n",
    "\n",
    "# Convolutional Operation ->(?,14,14,64)\n",
    "L2 = tf.nn.conv2d(L1,W2, strides =[1,1,1,1], padding =\"SAME\")\n",
    "L2 = tf.nn.relu(L2)\n",
    "# Max-pooling ->(?,7,7,64) \n",
    "L2 = tf.nn.max_pool(L2, ksize=[1,2,2,1], strides=[1,2,2,1], padding =\"SAME\")"
   ]
  },
  {
   "cell_type": "code",
   "execution_count": 10,
   "metadata": {},
   "outputs": [
    {
     "name": "stdout",
     "output_type": "stream",
     "text": [
      "Tensor(\"Reshape_1:0\", shape=(?, 3136), dtype=float32)\n"
     ]
    }
   ],
   "source": [
    "# reshape \n",
    "L2 = tf.reshape(L2,[-1,7*7*64]) #(?,3136)\n",
    "print(L2)"
   ]
  },
  {
   "cell_type": "code",
   "execution_count": 11,
   "metadata": {},
   "outputs": [
    {
     "name": "stdout",
     "output_type": "stream",
     "text": [
      "Tensor(\"add:0\", shape=(?, 10), dtype=float32)\n"
     ]
    }
   ],
   "source": [
    "# Fully Connnected Layers\n",
    "# FC 7*7*64 inputs -> 10 classes \n",
    "W3= tf.get_variable(\"W3\",shape=[7*7*64,10], initializer=tf.contrib.layers.xavier_initializer())\n",
    "b = tf.Variable(tf.random_normal([10]))\n",
    "\n",
    "hypothesis = tf.matmul(L2, W3)+ b\n",
    "print(hypothesis)"
   ]
  },
  {
   "cell_type": "code",
   "execution_count": 12,
   "metadata": {},
   "outputs": [
    {
     "name": "stdout",
     "output_type": "stream",
     "text": [
      "WARNING:tensorflow:From <ipython-input-12-baff737ac5bf>:2: softmax_cross_entropy_with_logits (from tensorflow.python.ops.nn_ops) is deprecated and will be removed in a future version.\n",
      "Instructions for updating:\n",
      "\n",
      "Future major versions of TensorFlow will allow gradients to flow\n",
      "into the labels input on backprop by default.\n",
      "\n",
      "See `tf.nn.softmax_cross_entropy_with_logits_v2`.\n",
      "\n"
     ]
    }
   ],
   "source": [
    "# define cost/loss & optimizer\n",
    "cost = tf.reduce_mean(tf.nn.softmax_cross_entropy_with_logits(logits =hypothesis, labels=Y))\n",
    "optimizer = tf.train.AdamOptimizer(learning_rate = learning_rate).minimize(cost)"
   ]
  },
  {
   "cell_type": "code",
   "execution_count": 13,
   "metadata": {},
   "outputs": [],
   "source": [
    "# initialize\n",
    "sess = tf.Session()\n",
    "sess.run(tf.global_variables_initializer())"
   ]
  },
  {
   "cell_type": "code",
   "execution_count": 14,
   "metadata": {},
   "outputs": [
    {
     "name": "stdout",
     "output_type": "stream",
     "text": [
      "Learning has been started. It takes lots of time\n",
      "Epoch: 0001 cost= 0.159484727\n",
      "Epoch: 0002 cost= 0.049517066\n",
      "Epoch: 0003 cost= 0.038793804\n",
      "Epoch: 0004 cost= 0.031421943\n",
      "Epoch: 0005 cost= 0.028972152\n",
      "Epoch: 0006 cost= 0.024219679\n",
      "Epoch: 0007 cost= 0.021181253\n",
      "Epoch: 0008 cost= 0.020393703\n",
      "Epoch: 0009 cost= 0.022608230\n",
      "Epoch: 0010 cost= 0.021216209\n",
      "Epoch: 0011 cost= 0.021706430\n",
      "Epoch: 0012 cost= 0.018802695\n",
      "Epoch: 0013 cost= 0.016680570\n",
      "Epoch: 0014 cost= 0.016122088\n",
      "Epoch: 0015 cost= 0.018734429\n",
      "Epoch: 0016 cost= 0.024810960\n",
      "Epoch: 0017 cost= 0.018189793\n",
      "Epoch: 0018 cost= 0.014946231\n",
      "Epoch: 0019 cost= 0.019818388\n",
      "Epoch: 0020 cost= 0.017368593\n",
      "Epoch: 0021 cost= 0.020058941\n",
      "Epoch: 0022 cost= 0.023923696\n",
      "Epoch: 0023 cost= 0.016036870\n",
      "Epoch: 0024 cost= 0.022463274\n",
      "Epoch: 0025 cost= 0.015618750\n",
      "Epoch: 0026 cost= 0.009258327\n",
      "Epoch: 0027 cost= 0.021400619\n",
      "Epoch: 0028 cost= 0.019242406\n",
      "Epoch: 0029 cost= 0.014723352\n",
      "Epoch: 0030 cost= 0.021638873\n",
      "Epoch: 0031 cost= 0.021993379\n",
      "Epoch: 0032 cost= 0.016160517\n",
      "Epoch: 0033 cost= 0.018404839\n",
      "Epoch: 0034 cost= 0.014534471\n",
      "Epoch: 0035 cost= 0.017439099\n",
      "Epoch: 0036 cost= 0.027579456\n",
      "Epoch: 0037 cost= 0.014947296\n",
      "Epoch: 0038 cost= 0.025806892\n",
      "Epoch: 0039 cost= 0.017898441\n",
      "Epoch: 0040 cost= 0.019299873\n",
      "Epoch: 0041 cost= 0.016463754\n",
      "Epoch: 0042 cost= 0.016138577\n",
      "Epoch: 0043 cost= 0.022000653\n",
      "Epoch: 0044 cost= 0.026485014\n",
      "Epoch: 0045 cost= 0.024684459\n",
      "Epoch: 0046 cost= 0.023644868\n",
      "Epoch: 0047 cost= 0.013036388\n",
      "Epoch: 0048 cost= 0.016571340\n",
      "Epoch: 0049 cost= 0.017099177\n",
      "Epoch: 0050 cost= 0.028555176\n",
      "Learning Finished\n"
     ]
    }
   ],
   "source": [
    "# train my model \n",
    "print('Learning has been started. It takes lots of time')\n",
    "\n",
    "for epoch in range(training_epochs):\n",
    "    avg_cost = 0\n",
    "    total_batch = int(mnist.train.num_examples/batch_size)\n",
    "    \n",
    "    for i in range(total_batch):\n",
    "        batch_xs, batch_ys = mnist.train.next_batch(batch_size)\n",
    "        feed_dict = {X:batch_xs, Y:batch_ys}\n",
    "        c,_ = sess.run ([cost, optimizer], feed_dict = feed_dict)\n",
    "        avg_cost += c / total_batch\n",
    "    print('Epoch:', '%04d'%(epoch+1), 'cost=', '{:.9f}'.format(avg_cost))\n",
    "print('Learning Finished')"
   ]
  },
  {
   "cell_type": "code",
   "execution_count": 16,
   "metadata": {},
   "outputs": [
    {
     "name": "stdout",
     "output_type": "stream",
     "text": [
      "Accuracy: 0.9893\n"
     ]
    }
   ],
   "source": [
    "# Test model and check accuracy\n",
    "correct_prediction = tf.equal(tf.argmax(hypothesis,1), tf.argmax(Y,1))\n",
    "accuracy = tf.reduce_mean(tf.cast(correct_prediction, tf.float32))\n",
    "print('Accuracy:', sess.run(accuracy, feed_dict = {X: mnist.test.images, Y:mnist.test.labels}))"
   ]
  },
  {
   "cell_type": "code",
   "execution_count": 24,
   "metadata": {},
   "outputs": [
    {
     "name": "stdout",
     "output_type": "stream",
     "text": [
      "432\n",
      "Label: [4]\n",
      "Prediction: [4]\n"
     ]
    }
   ],
   "source": [
    "# Get on and predict \n",
    "import random\n",
    "\n",
    "r = random.randint(0, mnist.test.num_examples -1)\n",
    "print(r)\n",
    "print(\"Label:\", sess.run(tf.argmax(mnist.test.labels[r:r+1],1)))\n",
    "print(\"Prediction:\", sess.run(tf.argmax(hypothesis,1), feed_dict={X:mnist.test.images[r:r+1]}))\n"
   ]
  },
  {
   "cell_type": "code",
   "execution_count": 25,
   "metadata": {},
   "outputs": [],
   "source": [
    "import matplotlib.pyplot as plt"
   ]
  },
  {
   "cell_type": "code",
   "execution_count": 26,
   "metadata": {},
   "outputs": [
    {
     "data": {
      "image/png": "[encoded data removed]",
      "text/plain": [
       "<Figure size 432x288 with 1 Axes>"
      ]
     },
     "metadata": {},
     "output_type": "display_data"
    }
   ],
   "source": [
    "plt.imshow(mnist.test.images[r:r+1].reshape(28,28), cmap=\"Greys\", interpolation ='nearest')\n",
    "plt.show()"
   ]
  },
  {
   "cell_type": "code",
   "execution_count": null,
   "metadata": {},
   "outputs": [],
   "source": []
  }
 ],
 "metadata": {
  "kernelspec": {
   "display_name": "Python 3",
   "language": "python",
   "name": "python3"
  },
  "language_info": {
   "codemirror_mode": {
    "name": "ipython",
    "version": 3
   },
   "file_extension": ".py",
   "mimetype": "text/x-python",
   "name": "python",
   "nbconvert_exporter": "python",
   "pygments_lexer": "ipython3",
   "version": "3.6.5"
  }
 },
 "nbformat": 4,
 "nbformat_minor": 2
}
